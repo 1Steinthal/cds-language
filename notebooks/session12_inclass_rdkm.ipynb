{
 "cells": [
  {
   "cell_type": "markdown",
   "id": "49582d16-8369-4de0-ae31-e9d7b1a39213",
   "metadata": {},
   "source": [
    "# OCR - From images to text"
   ]
  },
  {
   "cell_type": "code",
   "execution_count": null,
   "id": "0ed64493-bba7-491b-8b68-d87c65eaebf5",
   "metadata": {
    "execution": {
     "iopub.execute_input": "2022-05-02T08:19:58.666303Z",
     "iopub.status.busy": "2022-05-02T08:19:58.665804Z",
     "iopub.status.idle": "2022-05-02T08:19:58.675693Z",
     "shell.execute_reply": "2022-05-02T08:19:58.674344Z",
     "shell.execute_reply.started": "2022-05-02T08:19:58.666249Z"
    },
    "tags": []
   },
   "outputs": [],
   "source": [
    "# basic python tools\n",
    "import re, os, sys\n",
    "sys.path.append(os.path.join(\"..\", \"..\", \"CDS-LANG\"))\n",
    "\n",
    "# OCR tools\n",
    "import cv2\n",
    "import pytesseract\n",
    "from utils.imutils import jimshow, jimshow_channel\n",
    "\n",
    "# data processing tools\n",
    "import numpy as np \n",
    "import pandas as pd \n",
    "import gensim\n",
    "import gensim.downloader as api\n",
    "\n",
    "# readymade spellchecker\n",
    "from autocorrect import Speller"
   ]
  },
  {
   "cell_type": "code",
   "execution_count": null,
   "id": "9911f7c7-43e0-4832-aa9e-a2a2fe7c133d",
   "metadata": {
    "execution": {
     "iopub.execute_input": "2022-05-02T08:24:51.291984Z",
     "iopub.status.busy": "2022-05-02T08:24:51.291477Z",
     "iopub.status.idle": "2022-05-02T08:24:51.319846Z",
     "shell.execute_reply": "2022-05-02T08:24:51.319206Z",
     "shell.execute_reply.started": "2022-05-02T08:24:51.291930Z"
    },
    "tags": []
   },
   "outputs": [],
   "source": [
    "\"\"\"\n",
    "Peter Norvig's spell-checker, modified work with with ranked embeddings\n",
    "\n",
    "http://norvig.com/spell-correct.html\n",
    "\"\"\"\n",
    "\n",
    "def words(text): \n",
    "    return re.findall(r'\\w+', text.lower())\n",
    "\n",
    "def P(word): \n",
    "    \"Probability of `word`.\"\n",
    "    # use rank as a proxy for likelihood\n",
    "    # returns 0 if the word isn't in the dictionary\n",
    "    return WORDS.get(word, 0)\n",
    "\n",
    "def correction(word): \n",
    "    \"Most probable spelling correction for word.\"\n",
    "    return max(candidates(word), key=P)\n",
    "\n",
    "def candidates(word): \n",
    "    \"Generate possible spelling corrections for word.\"\n",
    "    return (known([word]) or known(edits1(word)) or known(edits2(word)) or [word])\n",
    "\n",
    "def known(words): \n",
    "    \"The subset of `words` that appear in the dictionary of WORDS.\"\n",
    "    return set(w for w in words if w in WORDS)\n",
    "\n",
    "def edits1(word):\n",
    "    \"All edits that are one edit away from `word`.\"\n",
    "    letters    = 'abcdefghijklmnopqrstuvwxyz'\n",
    "    splits     = [(word[:i], word[i:])    for i in range(len(word) + 1)]\n",
    "    deletes    = [L + R[1:]               for L, R in splits if R]\n",
    "    transposes = [L + R[1] + R[0] + R[2:] for L, R in splits if len(R)>1]\n",
    "    replaces   = [L + c + R[1:]           for L, R in splits if R for c in letters]\n",
    "    inserts    = [L + c + R               for L, R in splits for c in letters]\n",
    "    return set(deletes + transposes + replaces + inserts)\n",
    "\n",
    "def edits2(word): \n",
    "    \"All edits that are two edits away from `word`.\"\n",
    "    return (e2 for e1 in edits1(word) for e2 in edits1(e1))\n",
    "\n",
    "def check(target):\n",
    "    try: \n",
    "        WORDS[target]\n",
    "    except:\n",
    "        print(f\"[ERROR]: Word '{target}' not found. Suggested correction: '{correction(target)}'\")\n",
    "        \n",
    "def regex_clean(string):\n",
    "    processed = string.replace(\"\\n\",\" \")\\\n",
    "                     .replace(\"\\n\\n\",\" \")\\\n",
    "                     .replace(\"__\",\" \")\\\n",
    "                     .replace(\" - \",\" \")\\\n",
    "                     .replace('-\"\"' ,\" \")\\\n",
    "                     .replace(\"|\", \"\")\\\n",
    "                     .replace(\"!\", \"\")\\\n",
    "                     .replace(\"\\s\\s\",\" \")\\\n",
    "                     .lstrip()\n",
    "    return \" \".join(processed.split())"
   ]
  },
  {
   "cell_type": "markdown",
   "id": "b580d31b-1048-42ff-8117-efae16b4734c",
   "metadata": {},
   "source": [
    "## OCR using ```Tesseract```"
   ]
  },
  {
   "cell_type": "code",
   "execution_count": null,
   "id": "2dbd3e08-0480-4ee3-acfb-90fa95a6d70c",
   "metadata": {
    "execution": {
     "iopub.execute_input": "2022-05-02T08:15:15.673722Z",
     "iopub.status.busy": "2022-05-02T08:15:15.673218Z",
     "iopub.status.idle": "2022-05-02T08:15:15.680060Z",
     "shell.execute_reply": "2022-05-02T08:15:15.679055Z",
     "shell.execute_reply.started": "2022-05-02T08:15:15.673668Z"
    },
    "tags": []
   },
   "outputs": [],
   "source": []
  },
  {
   "cell_type": "code",
   "execution_count": null,
   "id": "ee09bc55-a216-40b9-aa60-5e6f9787c64c",
   "metadata": {
    "execution": {
     "iopub.execute_input": "2022-05-02T08:15:16.264825Z",
     "iopub.status.busy": "2022-05-02T08:15:16.263609Z",
     "iopub.status.idle": "2022-05-02T08:15:18.378799Z",
     "shell.execute_reply": "2022-05-02T08:15:18.377146Z",
     "shell.execute_reply.started": "2022-05-02T08:15:16.264743Z"
    },
    "tags": []
   },
   "outputs": [],
   "source": []
  },
  {
   "cell_type": "code",
   "execution_count": null,
   "id": "0349b7da-5c32-4d32-b73a-ef264e8dad08",
   "metadata": {
    "execution": {
     "iopub.execute_input": "2022-05-02T08:15:40.014500Z",
     "iopub.status.busy": "2022-05-02T08:15:40.014007Z",
     "iopub.status.idle": "2022-05-02T08:15:42.005145Z",
     "shell.execute_reply": "2022-05-02T08:15:42.004540Z",
     "shell.execute_reply.started": "2022-05-02T08:15:40.014444Z"
    },
    "tags": []
   },
   "outputs": [],
   "source": []
  },
  {
   "cell_type": "markdown",
   "id": "60caa12a-b4c1-4c8b-a355-3cba7566e9d3",
   "metadata": {},
   "source": [
    "## Preprocess with Open-CV"
   ]
  },
  {
   "cell_type": "markdown",
   "id": "0eb400fb-9209-4933-8227-2ced3534ed2b",
   "metadata": {},
   "source": [
    "Note that Tesseract on Github give a bunch of tips for how best to preprocess images to improve performance. You should have the skills to actually do all of these things using Open-CV: https://github.com/tesseract-ocr/tessdoc/blob/main/ImproveQuality.md#rescaling"
   ]
  },
  {
   "cell_type": "code",
   "execution_count": null,
   "id": "388e4cd5-244a-48ef-b326-2747cb5bf7f2",
   "metadata": {
    "execution": {
     "iopub.execute_input": "2022-05-02T08:17:37.184050Z",
     "iopub.status.busy": "2022-05-02T08:17:37.183533Z",
     "iopub.status.idle": "2022-05-02T08:17:37.381681Z",
     "shell.execute_reply": "2022-05-02T08:17:37.380964Z",
     "shell.execute_reply.started": "2022-05-02T08:17:37.183994Z"
    },
    "tags": []
   },
   "outputs": [],
   "source": []
  },
  {
   "cell_type": "markdown",
   "id": "9e0ec601-241f-4ebf-afeb-e000ce06171a",
   "metadata": {},
   "source": [
    "__Crop__"
   ]
  },
  {
   "cell_type": "code",
   "execution_count": null,
   "id": "5a9b2f8e-f43f-4aba-a45a-216382e8c49e",
   "metadata": {
    "execution": {
     "iopub.execute_input": "2022-05-02T08:18:12.701700Z",
     "iopub.status.busy": "2022-05-02T08:18:12.701170Z",
     "iopub.status.idle": "2022-05-02T08:18:12.709571Z",
     "shell.execute_reply": "2022-05-02T08:18:12.708373Z",
     "shell.execute_reply.started": "2022-05-02T08:18:12.701645Z"
    }
   },
   "outputs": [],
   "source": []
  },
  {
   "cell_type": "markdown",
   "id": "8ea3d924-628a-44fb-a1f8-c735c1b782d7",
   "metadata": {},
   "source": [
    "__Greyscale__"
   ]
  },
  {
   "cell_type": "code",
   "execution_count": null,
   "id": "25c7d07b-497b-4001-b4e1-86b42451daa9",
   "metadata": {
    "execution": {
     "iopub.execute_input": "2022-05-02T08:18:13.485604Z",
     "iopub.status.busy": "2022-05-02T08:18:13.485134Z",
     "iopub.status.idle": "2022-05-02T08:18:13.501766Z",
     "shell.execute_reply": "2022-05-02T08:18:13.500319Z",
     "shell.execute_reply.started": "2022-05-02T08:18:13.485550Z"
    }
   },
   "outputs": [],
   "source": []
  },
  {
   "cell_type": "code",
   "execution_count": null,
   "id": "ec1ea391-b6f4-40c4-b7d6-0252c89c2e39",
   "metadata": {
    "execution": {
     "iopub.execute_input": "2022-05-02T08:20:03.459148Z",
     "iopub.status.busy": "2022-05-02T08:20:03.458653Z",
     "iopub.status.idle": "2022-05-02T08:20:04.357845Z",
     "shell.execute_reply": "2022-05-02T08:20:04.357240Z",
     "shell.execute_reply.started": "2022-05-02T08:20:03.459091Z"
    },
    "tags": []
   },
   "outputs": [],
   "source": []
  },
  {
   "cell_type": "markdown",
   "id": "543e2951-8ac4-494e-b644-88c90123d26c",
   "metadata": {},
   "source": [
    "__OCR again__"
   ]
  },
  {
   "cell_type": "code",
   "execution_count": null,
   "id": "79fec800-321d-494c-a164-bb5beba433f6",
   "metadata": {
    "execution": {
     "iopub.execute_input": "2022-05-02T08:20:30.150830Z",
     "iopub.status.busy": "2022-05-02T08:20:30.150308Z",
     "iopub.status.idle": "2022-05-02T08:20:31.987429Z",
     "shell.execute_reply": "2022-05-02T08:20:31.986620Z",
     "shell.execute_reply.started": "2022-05-02T08:20:30.150775Z"
    }
   },
   "outputs": [],
   "source": []
  },
  {
   "cell_type": "code",
   "execution_count": null,
   "id": "4478cad9-3ac3-475e-9c13-c9cc6d9349dc",
   "metadata": {
    "execution": {
     "iopub.execute_input": "2022-05-02T08:20:36.698236Z",
     "iopub.status.busy": "2022-05-02T08:20:36.697584Z",
     "iopub.status.idle": "2022-05-02T08:20:36.705029Z",
     "shell.execute_reply": "2022-05-02T08:20:36.703979Z",
     "shell.execute_reply.started": "2022-05-02T08:20:36.698177Z"
    }
   },
   "outputs": [],
   "source": []
  },
  {
   "cell_type": "markdown",
   "id": "20274cbe-87f8-4087-9fd1-ebb7d0ad8840",
   "metadata": {},
   "source": [
    "__Thresholding__"
   ]
  },
  {
   "cell_type": "code",
   "execution_count": null,
   "id": "ce83891b-8214-4e54-9a73-6243f1f73465",
   "metadata": {
    "execution": {
     "iopub.execute_input": "2022-05-02T08:20:53.550897Z",
     "iopub.status.busy": "2022-05-02T08:20:53.550370Z",
     "iopub.status.idle": "2022-05-02T08:20:53.563566Z",
     "shell.execute_reply": "2022-05-02T08:20:53.561336Z",
     "shell.execute_reply.started": "2022-05-02T08:20:53.550841Z"
    }
   },
   "outputs": [],
   "source": []
  },
  {
   "cell_type": "code",
   "execution_count": null,
   "id": "e9e676de-af70-483e-9188-b7984b538755",
   "metadata": {
    "execution": {
     "iopub.execute_input": "2022-05-02T08:21:00.687166Z",
     "iopub.status.busy": "2022-05-02T08:21:00.686655Z",
     "iopub.status.idle": "2022-05-02T08:21:01.222623Z",
     "shell.execute_reply": "2022-05-02T08:21:01.221271Z",
     "shell.execute_reply.started": "2022-05-02T08:21:00.687111Z"
    }
   },
   "outputs": [],
   "source": []
  },
  {
   "cell_type": "code",
   "execution_count": null,
   "id": "a77ccba6-8a8f-4680-8869-98887b105a28",
   "metadata": {
    "execution": {
     "iopub.execute_input": "2022-05-02T08:24:58.775628Z",
     "iopub.status.busy": "2022-05-02T08:24:58.775058Z",
     "iopub.status.idle": "2022-05-02T08:24:59.690604Z",
     "shell.execute_reply": "2022-05-02T08:24:59.688867Z",
     "shell.execute_reply.started": "2022-05-02T08:24:58.775561Z"
    },
    "tags": []
   },
   "outputs": [],
   "source": []
  },
  {
   "cell_type": "code",
   "execution_count": null,
   "id": "e0b3d1d9-5369-4a9a-8bae-43bcae4f7aa5",
   "metadata": {
    "execution": {
     "iopub.execute_input": "2022-05-02T08:25:00.533583Z",
     "iopub.status.busy": "2022-05-02T08:25:00.533131Z",
     "iopub.status.idle": "2022-05-02T08:25:00.540113Z",
     "shell.execute_reply": "2022-05-02T08:25:00.539063Z",
     "shell.execute_reply.started": "2022-05-02T08:25:00.533530Z"
    },
    "tags": []
   },
   "outputs": [],
   "source": []
  },
  {
   "cell_type": "markdown",
   "id": "8f805614-fa67-41ed-ba19-95614e259523",
   "metadata": {
    "tags": []
   },
   "source": [
    "## Quick and cheap spell checking"
   ]
  },
  {
   "cell_type": "markdown",
   "id": "90c013d9-ceee-4ffc-bcbe-944876444990",
   "metadata": {},
   "source": [
    "__Initialize speller__"
   ]
  },
  {
   "cell_type": "code",
   "execution_count": null,
   "id": "39a7b07a-4325-44d0-9582-454122b808e6",
   "metadata": {
    "execution": {
     "iopub.execute_input": "2022-05-02T08:26:24.740086Z",
     "iopub.status.busy": "2022-05-02T08:26:24.739578Z",
     "iopub.status.idle": "2022-05-02T08:26:24.819909Z",
     "shell.execute_reply": "2022-05-02T08:26:24.818802Z",
     "shell.execute_reply.started": "2022-05-02T08:26:24.740030Z"
    },
    "tags": []
   },
   "outputs": [],
   "source": []
  },
  {
   "cell_type": "code",
   "execution_count": null,
   "id": "5bb26f03-ddff-4359-902c-2f6e9d0c818e",
   "metadata": {
    "execution": {
     "iopub.execute_input": "2022-05-02T08:26:41.998158Z",
     "iopub.status.busy": "2022-05-02T08:26:41.997503Z",
     "iopub.status.idle": "2022-05-02T08:26:42.042238Z",
     "shell.execute_reply": "2022-05-02T08:26:42.041154Z",
     "shell.execute_reply.started": "2022-05-02T08:26:41.998100Z"
    },
    "tags": []
   },
   "outputs": [],
   "source": []
  },
  {
   "cell_type": "markdown",
   "id": "a5eea39c-9fb3-4f0b-918c-d37309b81074",
   "metadata": {},
   "source": [
    "## Use word embedding rankings"
   ]
  },
  {
   "cell_type": "code",
   "execution_count": null,
   "id": "09a18cd5-5859-4e32-b7c6-73d489e65b3a",
   "metadata": {
    "execution": {
     "iopub.execute_input": "2022-05-02T08:23:59.699479Z",
     "iopub.status.busy": "2022-05-02T08:23:59.698797Z",
     "iopub.status.idle": "2022-05-02T08:24:10.897609Z",
     "shell.execute_reply": "2022-05-02T08:24:10.896940Z",
     "shell.execute_reply.started": "2022-05-02T08:23:59.699399Z"
    },
    "tags": []
   },
   "outputs": [],
   "source": []
  },
  {
   "cell_type": "markdown",
   "id": "e4c4d6b9-ac01-4e3f-b696-5869173089e0",
   "metadata": {},
   "source": [
    "## Get word rankings from model"
   ]
  },
  {
   "cell_type": "code",
   "execution_count": null,
   "id": "e23fe372-7c02-46a2-81d7-c9187aa92d04",
   "metadata": {
    "execution": {
     "iopub.execute_input": "2022-05-02T08:24:12.031539Z",
     "iopub.status.busy": "2022-05-02T08:24:12.031077Z",
     "iopub.status.idle": "2022-05-02T08:24:12.171998Z",
     "shell.execute_reply": "2022-05-02T08:24:12.171183Z",
     "shell.execute_reply.started": "2022-05-02T08:24:12.031485Z"
    },
    "tags": []
   },
   "outputs": [],
   "source": []
  },
  {
   "cell_type": "markdown",
   "id": "f94c9a4c-1c5a-4475-9b85-b9de15735659",
   "metadata": {},
   "source": [
    "__Check word embeddings rankings for candidate replacements__"
   ]
  },
  {
   "cell_type": "code",
   "execution_count": null,
   "id": "9bb90585-5e85-4893-bdae-311634d848fa",
   "metadata": {
    "execution": {
     "iopub.execute_input": "2022-05-02T08:24:13.132677Z",
     "iopub.status.busy": "2022-05-02T08:24:13.132194Z",
     "iopub.status.idle": "2022-05-02T08:24:13.140859Z",
     "shell.execute_reply": "2022-05-02T08:24:13.139794Z",
     "shell.execute_reply.started": "2022-05-02T08:24:13.132620Z"
    },
    "tags": []
   },
   "outputs": [],
   "source": []
  }
 ],
 "metadata": {
  "kernelspec": {
   "display_name": "Python 3 ",
   "language": "python",
   "name": "python3"
  },
  "language_info": {
   "codemirror_mode": {
    "name": "ipython",
    "version": 3
   },
   "file_extension": ".py",
   "mimetype": "text/x-python",
   "name": "python",
   "nbconvert_exporter": "python",
   "pygments_lexer": "ipython3",
   "version": "3.9.10"
  }
 },
 "nbformat": 4,
 "nbformat_minor": 5
}
